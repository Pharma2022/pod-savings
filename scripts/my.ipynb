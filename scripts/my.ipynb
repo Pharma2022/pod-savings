{
 "cells": [
  {
   "cell_type": "code",
   "execution_count": 2,
   "id": "ebd57f27",
   "metadata": {},
   "outputs": [],
   "source": [
    "import pandas as pd "
   ]
  },
  {
   "cell_type": "code",
   "execution_count": 3,
   "id": "b113b234",
   "metadata": {},
   "outputs": [],
   "source": [
    "di=pd.read_csv('cost.csv')\n",
    "di.rename(columns={'drug_name':'Drug'},inplace=True)"
   ]
  },
  {
   "cell_type": "code",
   "execution_count": 8,
   "id": "b4990453",
   "metadata": {},
   "outputs": [],
   "source": [
    "savings=pd.read_csv('savings1.csv')\n",
    "savings['date_created']=pd.to_datetime(savings['date_created']).dt.date\n",
    "savings.to_csv('savings1.csv')"
   ]
  },
  {
   "cell_type": "code",
   "execution_count": 5,
   "id": "b0242702",
   "metadata": {},
   "outputs": [],
   "source": [
    "df=pd.merge(left=di,right=savings,how='inner',on='Drug')\n",
    "df.to_csv('savings1.csv',index=None)"
   ]
  }
 ],
 "metadata": {
  "kernelspec": {
   "display_name": "Python 3",
   "language": "python",
   "name": "python3"
  },
  "language_info": {
   "codemirror_mode": {
    "name": "ipython",
    "version": 3
   },
   "file_extension": ".py",
   "mimetype": "text/x-python",
   "name": "python",
   "nbconvert_exporter": "python",
   "pygments_lexer": "ipython3",
   "version": "3.11.4"
  }
 },
 "nbformat": 4,
 "nbformat_minor": 5
}
